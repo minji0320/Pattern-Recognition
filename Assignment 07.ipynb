{
 "cells": [
  {
   "cell_type": "markdown",
   "metadata": {},
   "source": [
    "# Apply K-means algorithm to both image value and its spatial domain\n",
    "\n",
    "For a given input image (either gray or color), apply a K-means algorithm that is designed to take into consideration of both the image intensity and its spatial domain with varying parameters: the number of clusters and the trade-off between the intensity energy and the spatial energy.\n",
    "\n",
    "The objective function is given by:\n",
    "\n",
    "$$\\sum_k \\sum_{x\\in I(k)} [ \\| f(x) - m_k \\|^2 + a * \\| x - c_k \\|^2 ]$$\n",
    "\n",
    "where $I(k)$ denotes the index set of x that belongs to cluster k, $m_k$ denotes the centroid of image intensity for cluster k, $c_k$ denotes the centroid of spatial location for cluster k, and a determines the importance between the image intensity and the spatial relation.\n",
    "\n",
    "<br>\n",
    "\n",
    "# Visualize the clustering results and the energy curve\n",
    "\n",
    "- Visualize the clustering results with varying k and a using the centroid color $m_k$ for each cluster k. $(k = 2, 5, 10, \\ a = 0.01, 0.1, 1)$\n",
    "\n",
    "- Visualize the energy curve for both the intensity energy and the spatial energy.\n",
    "\n",
    "\n",
    "## k = 2\n",
    "\n",
    "### a = 0.01"
   ]
  },
  {
   "cell_type": "code",
   "execution_count": 2,
   "metadata": {
    "scrolled": false
   },
   "outputs": [
    {
     "data": {
      "image/png": "[encoded data removed]",
      "text/plain": [
       "<Figure size 432x288 with 1 Axes>"
      ]
     },
     "metadata": {
      "needs_background": "light"
     },
     "output_type": "display_data"
    },
    {
     "data": {
      "image/png": "[encoded data removed]",
      "text/plain": [
       "<Figure size 432x288 with 1 Axes>"
      ]
     },
     "metadata": {
      "needs_background": "light"
     },
     "output_type": "display_data"
    }
   ],
   "source": [
    "import cv2\n",
    "import numpy as np\n",
    "import matplotlib.pyplot as plt\n",
    "from random import *\n",
    "from collections import Counter\n",
    "from math import sqrt\n",
    "\n",
    "#\n",
    "# load and reshape the image & Domain of pixels\n",
    "#\n",
    "in_img = cv2.imread('Photo.jpg')                      # img.shape = (300, 300, 3)\n",
    "img = cv2.cvtColor(in_img, cv2.COLOR_BGR2RGB)\n",
    "img = img.reshape((img.shape[0] * img.shape[1], 3))   # img.shape = (90000, 3)\n",
    "num_image = img.shape[0]\n",
    "\n",
    "mean = np.mean(img, axis = 0)\n",
    "std = np.std(img, axis = 0)\n",
    "whitening_img = (img - mean) / std\n",
    "image = np.empty((90000,5),dtype = float)\n",
    "image[:,:3] = whitening_img\n",
    "for i in range(300):\n",
    "    for j in range(300):\n",
    "        image[j+i*300,3] = i/299                # index of x\n",
    "        image[j+i*300,4] = j/299                # index of y\n",
    "\n",
    "\n",
    "\n",
    "#\n",
    "# Distance function between two vectors x and y (L2-norm)\n",
    "#\n",
    "\n",
    "def distance(x, y):\n",
    "    d = (x - y) ** 2\n",
    "    s = np.sum(d)\n",
    "    return(s)\n",
    "\n",
    "\n",
    "\n",
    "#\n",
    "# k-mean fuction\n",
    "#\n",
    "\n",
    "def getCentroids(image, labels, k):\n",
    "    idx = np.argsort(labels)\n",
    "    labels = labels[idx]\n",
    "    image = image[idx,:]\n",
    "\n",
    "    label_count = [0,]\n",
    "    result = Counter(labels)\n",
    "    for i in range(k):\n",
    "        label_count.append(result[i])\n",
    "    label_cumsum = []\n",
    "    cumsum = 0\n",
    "    for i in range(k+1): \n",
    "        cumsum += label_count[i]\n",
    "        label_cumsum.append(cumsum)\n",
    "    centroids = np.empty((k,5), dtype=float)\n",
    "    \n",
    "    for i in range(k):\n",
    "        centroids[i,:] = np.sum(image[label_cumsum[i]:label_cumsum[i+1],:], axis=0) / label_count[i+1]\n",
    "    return centroids\n",
    "\n",
    "def getLabelsAndEnergy(image, centroids, k,a):\n",
    "    labels  = np.empty(num_image, dtype=int)\n",
    "    energy = 0\n",
    "    for i in range(num_image):\n",
    "        d = []\n",
    "        for j in range(k):\n",
    "            d.append(distance(image[i,:], centroids[j,:]))\n",
    "        labels[i] = np.argmin(d)\n",
    "        energy += np.min(d)/num_image\n",
    "    return labels, energy\n",
    "\n",
    "\n",
    "\n",
    "#\n",
    "# K-means clustering\n",
    "#\n",
    "\n",
    "k = 2\n",
    "a = 0.01\n",
    "\n",
    "image[:,4:5] = a*image[:,4:5]\n",
    "labels  = np.empty(num_image, dtype=int)\n",
    "for i in range(num_image):\n",
    "    labels[i] = randint(0,k-1)      # Initialization of label\n",
    "iterations = 0\n",
    "energies = []\n",
    "centroids = None\n",
    "oldCentroids = 0\n",
    "while not np.all(oldCentroids == centroids):\n",
    "    oldCentroids = centroids\n",
    "    iterations += 1\n",
    "\n",
    "    # Assign centroids based on datapoint labels\n",
    "    centroids = getCentroids(image, labels, k)\n",
    "        \n",
    "    # Assign labels to each datapoint based on centroids and compute energies\n",
    "    labels, energy = getLabelsAndEnergy(image, centroids, k, a)\n",
    "    energies.append(energy)\n",
    "\n",
    "# Output image\n",
    "out_img = np.empty((num_image,3), dtype=int)\n",
    "for i in range(num_image):\n",
    "    out_img[i,:] = centroids[labels[i],:3] * std + mean     \n",
    "out_img = out_img.reshape((300, 300, 3))\n",
    "f1 = plt.figure()\n",
    "plt.title('Output Image')\n",
    "plt.imshow(out_img, cmap = plt.cm.gray)\n",
    "plt.axis(\"off\")\n",
    "plt.show()\n",
    "\n",
    "# Energy Graph\n",
    "x_axis = range(1,iterations+1)\n",
    "y_axis = energies\n",
    "f2 = plt.figure()\n",
    "plt.title('Energy per optimization iteration')\n",
    "plt.xlabel('Iteration')\n",
    "plt.ylabel('Energy')\n",
    "plt.scatter(x_axis, y_axis)\n",
    "plt.show()\n"
   ]
  },
  {
   "cell_type": "markdown",
   "metadata": {},
   "source": [
    "### a = 0.1\n",
    "\n",
    "In the above code, only changed a value from 0.01 to 0.1, and saved the image.\n",
    "\n",
    "![Output_Image](image_07/Output_Image_k2_a0.1.png)\n",
    "![Energy](image_07/Energy_k2_a0.1.png)"
   ]
  },
  {
   "cell_type": "markdown",
   "metadata": {},
   "source": [
    "### a = 1\n",
    "\n",
    "![Output_Image](image_07/Output_Image_k2_a1.png)\n",
    "![Energy](image_07/Energy_k2_a1.png)"
   ]
  },
  {
   "cell_type": "markdown",
   "metadata": {},
   "source": [
    "## k = 5\n",
    "\n",
    "### a = 0.01\n",
    "\n",
    "![Output_Image](image_07/Output_Image_k5_a0.01.png)\n",
    "![Energy](image_07/Energy_k5_a0.01.png)"
   ]
  },
  {
   "cell_type": "markdown",
   "metadata": {},
   "source": [
    "### a = 0.1\n",
    "\n",
    "![Output_Image](image_07/Output_Image_k5_a0.1.png)\n",
    "![Energy](image_07/Energy_k5_a0.1.png)"
   ]
  },
  {
   "cell_type": "markdown",
   "metadata": {},
   "source": [
    "### a = 1\n",
    "\n",
    "![Output_Image](image_07/Output_Image_k5_a1.png)\n",
    "![Energy](image_07/Energy_k5_a1.png)"
   ]
  },
  {
   "cell_type": "markdown",
   "metadata": {},
   "source": [
    "## k = 10\n",
    "\n",
    "### a = 0.01\n",
    "\n",
    "![Output_Image](image_07/Output_Image_k10_a0.01.png)\n",
    "![Energy](image_07/Energy_k10_a0.01.png)"
   ]
  },
  {
   "cell_type": "markdown",
   "metadata": {},
   "source": [
    "### a = 0.1\n",
    "\n",
    "![Output_Image](image_07/Output_Image_k10_a0.1.png)\n",
    "![Energy](image_07/Energy_k10_a0.1.png)"
   ]
  },
  {
   "cell_type": "markdown",
   "metadata": {},
   "source": [
    "### a = 1\n",
    "\n",
    "![Output_Image](image_07/Output_Image_k10_a1.png)\n",
    "![Energy](image_07/Energy_k10_a1.png)"
   ]
  }
 ],
 "metadata": {
  "kernelspec": {
   "display_name": "Python 3",
   "language": "python",
   "name": "python3"
  },
  "language_info": {
   "codemirror_mode": {
    "name": "ipython",
    "version": 3
   },
   "file_extension": ".py",
   "mimetype": "text/x-python",
   "name": "python",
   "nbconvert_exporter": "python",
   "pygments_lexer": "ipython3",
   "version": "3.7.1"
  }
 },
 "nbformat": 4,
 "nbformat_minor": 2
}
